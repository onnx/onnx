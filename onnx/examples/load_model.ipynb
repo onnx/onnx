{
 "cells": [
  {
   "cell_type": "code",
   "execution_count": 1,
   "metadata": {
    "execution": {
     "iopub.execute_input": "2023-03-06T18:40:06.741369Z",
     "iopub.status.busy": "2023-03-06T18:40:06.741369Z",
     "iopub.status.idle": "2023-03-06T18:40:06.785009Z",
     "shell.execute_reply": "2023-03-06T18:40:06.785009Z"
    }
   },
   "outputs": [
    {
     "name": "stdout",
     "output_type": "stream",
     "text": [
      "skipping\n"
     ]
    }
   ],
   "source": [
    "%%script echo skipping\n",
    "# Protobuf 4 and Protobuf 3 might output different order of protobuf fields\n",
    "\n",
    "import onnx\n",
    "import os\n",
    "\n",
    "\n",
    "# Load the ONNX model\n",
    "onnx_model = onnx.load(os.path.join('resources', 'single_relu.onnx'))\n",
    "print(onnx_model)"
   ]
  },
  {
   "cell_type": "code",
   "execution_count": null,
   "metadata": {},
   "outputs": [],
   "source": []
  }
 ],
 "metadata": {
  "kernelspec": {
   "display_name": "Python 3 (ipykernel)",
   "language": "python",
   "name": "python3"
  },
  "language_info": {
   "codemirror_mode": {
    "name": "ipython",
    "version": 3
   },
   "file_extension": ".py",
   "mimetype": "text/x-python",
   "name": "python",
   "nbconvert_exporter": "python",
   "pygments_lexer": "ipython3",
   "version": "3.9.11"
  }
 },
 "nbformat": 4,
 "nbformat_minor": 2
}
