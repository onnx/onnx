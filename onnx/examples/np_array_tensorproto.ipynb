{
 "cells": [
  {
   "cell_type": "code",
   "execution_count": 1,
   "metadata": {},
   "outputs": [
    {
     "name": "stdout",
     "output_type": "stream",
     "text": [
      "Original Numpy array:\n",
      "[[ 1.  2.  3.]\n",
      " [ 4.  5.  6.]]\n",
      "\n"
     ]
    }
   ],
   "source": [
    "from __future__ import absolute_import\n",
    "from __future__ import division\n",
    "from __future__ import print_function\n",
    "from __future__ import unicode_literals\n",
    "\n",
    "import numpy\n",
    "import onnx\n",
    "import os\n",
    "from onnx import numpy_helper\n",
    "from distutils.version import LooseVersion\n",
    "\n",
    "\n",
    "# Preprocessing: create a Numpy array\n",
    "numpy_array = numpy.array([[1.0, 2.0, 3.0], [4.0, 5.0, 6.0]], dtype=float)\n",
    "if LooseVersion(numpy.version.version) < LooseVersion('1.14'):\n",
    "    print('Original Numpy array:\\n{}\\n'.format(numpy.array2string(numpy_array)))\n",
    "else:\n",
    "    print('Original Numpy array:\\n{}\\n'.format(numpy.array2string(numpy_array, legacy='1.13')))"
   ]
  },
  {
   "cell_type": "code",
   "execution_count": 2,
   "metadata": {},
   "outputs": [
    {
     "name": "stdout",
     "output_type": "stream",
     "text": [
      "TensorProto:\n",
      "dims: 2\n",
      "dims: 3\n",
      "data_type: 11\n",
      "raw_data: \"\\000\\000\\000\\000\\000\\000\\360?\\000\\000\\000\\000\\000\\000\\000@\\000\\000\\000\\000\\000\\000\\010@\\000\\000\\000\\000\\000\\000\\020@\\000\\000\\000\\000\\000\\000\\024@\\000\\000\\000\\000\\000\\000\\030@\"\n",
      "\n"
     ]
    }
   ],
   "source": [
    "# Convert the Numpy array to a TensorProto\n",
    "tensor = numpy_helper.from_array(numpy_array)\n",
    "print('TensorProto:\\n{}'.format(tensor))"
   ]
  },
  {
   "cell_type": "code",
   "execution_count": 3,
   "metadata": {},
   "outputs": [
    {
     "name": "stdout",
     "output_type": "stream",
     "text": [
      "After round trip, Numpy array:\n",
      "[[ 1.  2.  3.]\n",
      " [ 4.  5.  6.]]\n",
      "\n"
     ]
    }
   ],
   "source": [
    "# Convert the TensorProto to a Numpy array\n",
    "new_array = numpy_helper.to_array(tensor)\n",
    "if LooseVersion(numpy.version.version) < LooseVersion('1.14'):\n",
    "    print('After round trip, Numpy array:\\n{}\\n'.format(numpy.array2string(numpy_array)))\n",
    "else:\n",
    "    print('After round trip, Numpy array:\\n{}\\n'.format(numpy.array2string(numpy_array, legacy='1.13')))"
   ]
  },
  {
   "cell_type": "code",
   "execution_count": 4,
   "metadata": {},
   "outputs": [],
   "source": [
    "# Save the TensorProto\n",
    "with open(os.path.join('resources', 'tensor.pb'), 'wb') as f:\n",
    "    f.write(tensor.SerializeToString())"
   ]
  },
  {
   "cell_type": "code",
   "execution_count": 5,
   "metadata": {},
   "outputs": [
    {
     "name": "stdout",
     "output_type": "stream",
     "text": [
      "After saving and loading, new TensorProto:\n",
      "dims: 2\n",
      "dims: 3\n",
      "data_type: 11\n",
      "raw_data: \"\\000\\000\\000\\000\\000\\000\\360?\\000\\000\\000\\000\\000\\000\\000@\\000\\000\\000\\000\\000\\000\\010@\\000\\000\\000\\000\\000\\000\\020@\\000\\000\\000\\000\\000\\000\\024@\\000\\000\\000\\000\\000\\000\\030@\"\n",
      "\n"
     ]
    }
   ],
   "source": [
    "# Load the TensorProto\n",
    "new_tensor = onnx.TensorProto()\n",
    "with open(os.path.join('resources', 'tensor.pb'), 'rb') as f:\n",
    "    new_tensor.ParseFromString(f.read())\n",
    "print('After saving and loading, new TensorProto:\\n{}'.format(new_tensor))"
   ]
  }
 ],
 "metadata": {
  "kernelspec": {
   "display_name": "Python 2",
   "language": "python",
   "name": "python2"
  },
  "language_info": {
   "codemirror_mode": {
    "name": "ipython",
    "version": 2
   },
   "file_extension": ".py",
   "mimetype": "text/x-python",
   "name": "python",
   "nbconvert_exporter": "python",
   "pygments_lexer": "ipython2",
   "version": "2.7.5"
  }
 },
 "nbformat": 4,
 "nbformat_minor": 2
}
