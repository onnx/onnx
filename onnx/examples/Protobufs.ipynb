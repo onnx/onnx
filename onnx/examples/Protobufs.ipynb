{
 "cells": [
  {
   "cell_type": "code",
   "execution_count": 1,
   "metadata": {
    "collapsed": true,
    "execution": {
     "iopub.execute_input": "2023-03-09T00:23:36.826818Z",
     "iopub.status.busy": "2023-03-09T00:23:36.825828Z",
     "iopub.status.idle": "2023-03-09T00:23:36.996847Z",
     "shell.execute_reply": "2023-03-09T00:23:36.996847Z"
    }
   },
   "outputs": [],
   "source": [
    "from onnx import *"
   ]
  },
  {
   "cell_type": "code",
   "execution_count": 2,
   "metadata": {
    "execution": {
     "iopub.execute_input": "2023-03-09T00:23:37.000816Z",
     "iopub.status.busy": "2023-03-09T00:23:36.999818Z",
     "iopub.status.idle": "2023-03-09T00:23:37.059815Z",
     "shell.execute_reply": "2023-03-09T00:23:37.059815Z"
    }
   },
   "outputs": [],
   "source": [
    "%%script --no-raise-error false\n",
    "# Protobuf 4 and Protobuf 3 might output different order of protobuf fields\n",
    "\n",
    "# Int Attibute\n",
    "arg = helper.make_attribute(\"this_is_an_int\", 1701)\n",
    "print(\"\\nInt attribute:\\n\")\n",
    "print(arg)"
   ]
  },
  {
   "cell_type": "code",
   "execution_count": 3,
   "metadata": {
    "execution": {
     "iopub.execute_input": "2023-03-09T00:23:37.063815Z",
     "iopub.status.busy": "2023-03-09T00:23:37.062815Z",
     "iopub.status.idle": "2023-03-09T00:23:37.075815Z",
     "shell.execute_reply": "2023-03-09T00:23:37.075815Z"
    }
   },
   "outputs": [
    {
     "name": "stdout",
     "output_type": "stream",
     "text": [
      "\n",
      "Float attribute:\n",
      "\n",
      "name: \"this_is_a_float\"\n",
      "f: 3.140000104904175\n",
      "type: FLOAT\n",
      "\n"
     ]
    }
   ],
   "source": [
    "# NBVAL_IGNORE_OUTPUT\n",
    "# Float Attribute\n",
    "arg = helper.make_attribute(\"this_is_a_float\", 3.14)\n",
    "print(\"\\nFloat attribute:\\n\")\n",
    "print(arg)"
   ]
  },
  {
   "cell_type": "code",
   "execution_count": 4,
   "metadata": {
    "execution": {
     "iopub.execute_input": "2023-03-09T00:23:37.088815Z",
     "iopub.status.busy": "2023-03-09T00:23:37.088815Z",
     "iopub.status.idle": "2023-03-09T00:23:37.123815Z",
     "shell.execute_reply": "2023-03-09T00:23:37.123815Z"
    }
   },
   "outputs": [],
   "source": [
    "%%script --no-raise-error false\n",
    "# Protobuf 4 and Protobuf 3 might output different order of protobuf fields\n",
    "\n",
    "# String Attribute\n",
    "arg = helper.make_attribute(\"this_is_a_string\", \"string_content\")\n",
    "print(\"\\nString attribute:\\n\")\n",
    "print(arg)"
   ]
  },
  {
   "cell_type": "code",
   "execution_count": 5,
   "metadata": {
    "execution": {
     "iopub.execute_input": "2023-03-09T00:23:37.126815Z",
     "iopub.status.busy": "2023-03-09T00:23:37.126815Z",
     "iopub.status.idle": "2023-03-09T00:23:37.171816Z",
     "shell.execute_reply": "2023-03-09T00:23:37.171816Z"
    }
   },
   "outputs": [],
   "source": [
    "%%script --no-raise-error false\n",
    "# Protobuf 4 and Protobuf 3 might output different order of protobuf fields\n",
    "\n",
    "# Repeated Attribute\n",
    "arg = helper.make_attribute(\"this_is_a_repeated_int\", [1, 2, 3, 4])\n",
    "print(\"\\nRepeated int attribute:\\n\")\n",
    "print(arg)"
   ]
  },
  {
   "cell_type": "code",
   "execution_count": 6,
   "metadata": {
    "execution": {
     "iopub.execute_input": "2023-03-09T00:23:37.175815Z",
     "iopub.status.busy": "2023-03-09T00:23:37.175815Z",
     "iopub.status.idle": "2023-03-09T00:23:37.187815Z",
     "shell.execute_reply": "2023-03-09T00:23:37.187815Z"
    }
   },
   "outputs": [
    {
     "name": "stdout",
     "output_type": "stream",
     "text": [
      "\n",
      "NodeProto:\n",
      "\n",
      "input: \"X\"\n",
      "output: \"Y\"\n",
      "op_type: \"Relu\"\n",
      "\n"
     ]
    }
   ],
   "source": [
    "# node\n",
    "node_proto = helper.make_node(\"Relu\", [\"X\"], [\"Y\"])\n",
    "\n",
    "print(\"\\nNodeProto:\\n\")\n",
    "print(node_proto)"
   ]
  },
  {
   "cell_type": "code",
   "execution_count": 7,
   "metadata": {
    "execution": {
     "iopub.execute_input": "2023-03-09T00:23:37.190815Z",
     "iopub.status.busy": "2023-03-09T00:23:37.190815Z",
     "iopub.status.idle": "2023-03-09T00:23:37.233816Z",
     "shell.execute_reply": "2023-03-09T00:23:37.233816Z"
    }
   },
   "outputs": [],
   "source": [
    "%%script --no-raise-error false\n",
    "# Protobuf 4 and Protobuf 3 might output different order of protobuf fields\n",
    "\n",
    "# node with args\n",
    "node_proto = helper.make_node(\"Conv\", [\"X\", \"W\", \"B\"], [\"Y\"], kernel=3, stride=1, pad=1)\n",
    "\n",
    "# This is just for making the attributes to be printed in order\n",
    "node_proto.attribute.sort(key=lambda attr: attr.name)\n",
    "print(\"\\nNodeProto:\\n\")\n",
    "print(node_proto)\n",
    "\n",
    "print(\"\\nMore Readable NodeProto (no args yet):\\n\")\n",
    "print(helper.printable_node(node_proto))"
   ]
  },
  {
   "cell_type": "code",
   "execution_count": 8,
   "metadata": {
    "execution": {
     "iopub.execute_input": "2023-03-09T00:23:37.237816Z",
     "iopub.status.busy": "2023-03-09T00:23:37.236817Z",
     "iopub.status.idle": "2023-03-09T00:23:37.281815Z",
     "shell.execute_reply": "2023-03-09T00:23:37.281815Z"
    }
   },
   "outputs": [],
   "source": [
    "%%script --no-raise-error false\n",
    "# Protobuf 4 and Protobuf 3 might output different order of protobuf fields\n",
    "\n",
    "# graph\n",
    "graph_proto = helper.make_graph(\n",
    "    [\n",
    "        helper.make_node(\"FC\", [\"X\", \"W1\", \"B1\"], [\"H1\"]),\n",
    "        helper.make_node(\"Relu\", [\"H1\"], [\"R1\"]),\n",
    "        helper.make_node(\"FC\", [\"R1\", \"W2\", \"B2\"], [\"Y\"]),\n",
    "    ],\n",
    "    \"MLP\",\n",
    "    [\n",
    "        helper.make_tensor_value_info(\"X\", TensorProto.FLOAT, [1]),\n",
    "        helper.make_tensor_value_info(\"W1\", TensorProto.FLOAT, [1]),\n",
    "        helper.make_tensor_value_info(\"B1\", TensorProto.FLOAT, [1]),\n",
    "        helper.make_tensor_value_info(\"W2\", TensorProto.FLOAT, [1]),\n",
    "        helper.make_tensor_value_info(\"B2\", TensorProto.FLOAT, [1]),\n",
    "    ],\n",
    "    [\n",
    "        helper.make_tensor_value_info(\"Y\", TensorProto.FLOAT, [1]),\n",
    "    ],\n",
    ")\n",
    "\n",
    "print(\"\\ngraph proto:\\n\")\n",
    "print(graph_proto)\n",
    "\n",
    "print(\"\\nMore Readable GraphProto:\\n\")\n",
    "print(helper.printable_graph(graph_proto))"
   ]
  },
  {
   "cell_type": "code",
   "execution_count": 9,
   "metadata": {
    "execution": {
     "iopub.execute_input": "2023-03-09T00:23:37.285815Z",
     "iopub.status.busy": "2023-03-09T00:23:37.284815Z",
     "iopub.status.idle": "2023-03-09T00:23:37.329815Z",
     "shell.execute_reply": "2023-03-09T00:23:37.329815Z"
    }
   },
   "outputs": [],
   "source": [
    "%%script --no-raise-error false\n",
    "# Protobuf 4 and Protobuf 3 might output different order of protobuf fields\n",
    "\n",
    "# An node that is also a graph\n",
    "graph_proto = helper.make_graph(\n",
    "    [\n",
    "        helper.make_node(\"FC\", [\"X\", \"W1\", \"B1\"], [\"H1\"]),\n",
    "        helper.make_node(\"Relu\", [\"H1\"], [\"R1\"]),\n",
    "        helper.make_node(\"FC\", [\"R1\", \"W2\", \"B2\"], [\"Y\"]),\n",
    "    ],\n",
    "    \"MLP\",\n",
    "    [\n",
    "        helper.make_tensor_value_info(\"X\", TensorProto.FLOAT, [1]),\n",
    "        helper.make_tensor_value_info(\"W1\", TensorProto.FLOAT, [1]),\n",
    "        helper.make_tensor_value_info(\"B1\", TensorProto.FLOAT, [1]),\n",
    "        helper.make_tensor_value_info(\"W2\", TensorProto.FLOAT, [1]),\n",
    "        helper.make_tensor_value_info(\"B2\", TensorProto.FLOAT, [1]),\n",
    "    ],\n",
    "    [\n",
    "        helper.make_tensor_value_info(\"Y\", TensorProto.FLOAT, [1]),\n",
    "    ],\n",
    ")\n",
    "\n",
    "# output = ThisSpecificgraph([input, w1, b1, w2, b2])\n",
    "node_proto = helper.make_node(\n",
    "    \"graph\",\n",
    "    [\"Input\", \"W1\", \"B1\", \"W2\", \"B2\"],\n",
    "    [\"Output\"],\n",
    "    graph=[graph_proto],\n",
    ")\n",
    "\n",
    "print(\"\\nNodeProto that contains a graph:\\n\")\n",
    "print(node_proto)"
   ]
  }
 ],
 "metadata": {
  "kernelspec": {
   "display_name": "Python 3",
   "language": "python",
   "name": "python3"
  },
  "language_info": {
   "codemirror_mode": {
    "name": "ipython",
    "version": 3
   },
   "file_extension": ".py",
   "mimetype": "text/x-python",
   "name": "python",
   "nbconvert_exporter": "python",
   "pygments_lexer": "ipython3",
   "version": "3.9.11"
  }
 },
 "nbformat": 4,
 "nbformat_minor": 1
}
