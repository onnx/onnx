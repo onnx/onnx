{
 "cells": [
  {
   "cell_type": "code",
   "execution_count": 1,
   "metadata": {
    "execution": {
     "iopub.execute_input": "2023-03-29T20:46:07.207948Z",
     "iopub.status.busy": "2023-03-29T20:46:07.207948Z",
     "iopub.status.idle": "2023-03-29T20:46:07.594956Z",
     "shell.execute_reply": "2023-03-29T20:46:07.593949Z"
    }
   },
   "outputs": [],
   "source": [
    "from onnx import *"
   ]
  },
  {
   "cell_type": "code",
   "execution_count": 2,
   "metadata": {
    "execution": {
     "iopub.execute_input": "2023-03-29T20:46:07.597950Z",
     "iopub.status.busy": "2023-03-29T20:46:07.597950Z",
     "iopub.status.idle": "2023-03-29T20:46:08.546934Z",
     "shell.execute_reply": "2023-03-29T20:46:08.546934Z"
    }
   },
   "outputs": [],
   "source": [
    "%%script --no-raise-error false\n",
    "# Protobuf 4 and Protobuf 3 might output different order of protobuf fields\n",
    "\n",
    "# Int Attibute\n",
    "arg = helper.make_attribute(\"this_is_an_int\", 1701)\n",
    "print(\"\\nInt attribute:\\n\")\n",
    "print(arg)"
   ]
  },
  {
   "cell_type": "code",
   "execution_count": 3,
   "metadata": {
    "execution": {
     "iopub.execute_input": "2023-03-29T20:46:08.549933Z",
     "iopub.status.busy": "2023-03-29T20:46:08.549933Z",
     "iopub.status.idle": "2023-03-29T20:46:08.594940Z",
     "shell.execute_reply": "2023-03-29T20:46:08.593963Z"
    }
   },
   "outputs": [],
   "source": [
    "%%script --no-raise-error false\n",
    "# Protobuf 4 and Protobuf 3 will output different order of protobuf fields\n",
    "\n",
    "# NBVAL_IGNORE_OUTPUT\n",
    "# Float Attribute\n",
    "arg = helper.make_attribute(\"this_is_a_float\", 3.14)\n",
    "print(\"\\nFloat attribute:\\n\")\n",
    "print(arg)"
   ]
  },
  {
   "cell_type": "code",
   "execution_count": 4,
   "metadata": {
    "execution": {
     "iopub.execute_input": "2023-03-29T20:46:08.598936Z",
     "iopub.status.busy": "2023-03-29T20:46:08.598936Z",
     "iopub.status.idle": "2023-03-29T20:46:08.639935Z",
     "shell.execute_reply": "2023-03-29T20:46:08.639935Z"
    }
   },
   "outputs": [],
   "source": [
    "%%script --no-raise-error false\n",
    "# Protobuf 4 and Protobuf 3 might output different order of protobuf fields\n",
    "\n",
    "# String Attribute\n",
    "arg = helper.make_attribute(\"this_is_a_string\", \"string_content\")\n",
    "print(\"\\nString attribute:\\n\")\n",
    "print(arg)"
   ]
  },
  {
   "cell_type": "code",
   "execution_count": 5,
   "metadata": {
    "execution": {
     "iopub.execute_input": "2023-03-29T20:46:08.644934Z",
     "iopub.status.busy": "2023-03-29T20:46:08.643951Z",
     "iopub.status.idle": "2023-03-29T20:46:08.687934Z",
     "shell.execute_reply": "2023-03-29T20:46:08.686933Z"
    }
   },
   "outputs": [],
   "source": [
    "%%script --no-raise-error false\n",
    "# Protobuf 4 and Protobuf 3 might output different order of protobuf fields\n",
    "\n",
    "# Repeated Attribute\n",
    "arg = helper.make_attribute(\"this_is_a_repeated_int\", [1, 2, 3, 4])\n",
    "print(\"\\nRepeated int attribute:\\n\")\n",
    "print(arg)"
   ]
  },
  {
   "cell_type": "code",
   "execution_count": 6,
   "metadata": {
    "execution": {
     "iopub.execute_input": "2023-03-29T20:46:08.691935Z",
     "iopub.status.busy": "2023-03-29T20:46:08.691935Z",
     "iopub.status.idle": "2023-03-29T20:46:08.748932Z",
     "shell.execute_reply": "2023-03-29T20:46:08.748932Z"
    }
   },
   "outputs": [],
   "source": [
    "%%script --no-raise-error false\n",
    "# Protobuf 4 and Protobuf 3 will output different order of protobuf fields\n",
    "\n",
    "# node\n",
    "node_proto = helper.make_node(\"Relu\", [\"X\"], [\"Y\"])\n",
    "\n",
    "print(\"\\nNodeProto:\\n\")\n",
    "print(node_proto)"
   ]
  },
  {
   "cell_type": "code",
   "execution_count": 7,
   "metadata": {
    "execution": {
     "iopub.execute_input": "2023-03-29T20:46:08.754937Z",
     "iopub.status.busy": "2023-03-29T20:46:08.753934Z",
     "iopub.status.idle": "2023-03-29T20:46:08.795933Z",
     "shell.execute_reply": "2023-03-29T20:46:08.795933Z"
    }
   },
   "outputs": [],
   "source": [
    "%%script --no-raise-error false\n",
    "# Protobuf 4 and Protobuf 3 might output different order of protobuf fields\n",
    "\n",
    "# node with args\n",
    "node_proto = helper.make_node(\n",
    "    \"Conv\", [\"X\", \"W\", \"B\"], [\"Y\"],\n",
    "    kernel=3, stride=1, pad=1)\n",
    "\n",
    "# This is just for making the attributes to be printed in order\n",
    "node_proto.attribute.sort(key=lambda attr: attr.name)\n",
    "print(\"\\nNodeProto:\\n\")\n",
    "print(node_proto)\n",
    "\n",
    "print(\"\\nMore Readable NodeProto (no args yet):\\n\")\n",
    "print(helper.printable_node(node_proto))"
   ]
  },
  {
   "cell_type": "code",
   "execution_count": 8,
   "metadata": {
    "execution": {
     "iopub.execute_input": "2023-03-29T20:46:08.798932Z",
     "iopub.status.busy": "2023-03-29T20:46:08.798932Z",
     "iopub.status.idle": "2023-03-29T20:46:08.843932Z",
     "shell.execute_reply": "2023-03-29T20:46:08.843932Z"
    }
   },
   "outputs": [],
   "source": [
    "%%script --no-raise-error false\n",
    "# Protobuf 4 and Protobuf 3 will output different order of protobuf fields\n",
    "\n",
    "# graph\n",
    "graph_proto = helper.make_graph(\n",
    "    [\n",
    "        helper.make_node(\"FC\", [\"X\", \"W1\", \"B1\"], [\"H1\"]),\n",
    "        helper.make_node(\"Relu\", [\"H1\"], [\"R1\"]),\n",
    "        helper.make_node(\"FC\", [\"R1\", \"W2\", \"B2\"], [\"Y\"]),\n",
    "    ],\n",
    "    \"MLP\",\n",
    "    [\n",
    "        helper.make_tensor_value_info('X' , TensorProto.FLOAT, [1]),\n",
    "        helper.make_tensor_value_info('W1', TensorProto.FLOAT, [1]),\n",
    "        helper.make_tensor_value_info('B1', TensorProto.FLOAT, [1]),\n",
    "        helper.make_tensor_value_info('W2', TensorProto.FLOAT, [1]),\n",
    "        helper.make_tensor_value_info('B2', TensorProto.FLOAT, [1]),\n",
    "    ],\n",
    "    [\n",
    "        helper.make_tensor_value_info('Y', TensorProto.FLOAT, [1]),\n",
    "    ]\n",
    ")\n",
    "\n",
    "print(\"\\ngraph proto:\\n\")\n",
    "print(graph_proto)\n",
    "\n",
    "print(\"\\nMore Readable GraphProto:\\n\")\n",
    "print(helper.printable_graph(graph_proto))"
   ]
  },
  {
   "cell_type": "code",
   "execution_count": 9,
   "metadata": {
    "execution": {
     "iopub.execute_input": "2023-03-29T20:46:08.846935Z",
     "iopub.status.busy": "2023-03-29T20:46:08.846935Z",
     "iopub.status.idle": "2023-03-29T20:46:08.889965Z",
     "shell.execute_reply": "2023-03-29T20:46:08.889965Z"
    }
   },
   "outputs": [],
   "source": [
    "%%script --no-raise-error false\n",
    "# Protobuf 4 and Protobuf 3 might output different order of protobuf fields\n",
    "\n",
    "# An node that is also a graph\n",
    "graph_proto = helper.make_graph(\n",
    "    [\n",
    "        helper.make_node(\"FC\", [\"X\", \"W1\", \"B1\"], [\"H1\"]),\n",
    "        helper.make_node(\"Relu\", [\"H1\"], [\"R1\"]),\n",
    "        helper.make_node(\"FC\", [\"R1\", \"W2\", \"B2\"], [\"Y\"]),\n",
    "    ],\n",
    "    \"MLP\",\n",
    "    [\n",
    "        helper.make_tensor_value_info('X' , TensorProto.FLOAT, [1]),\n",
    "        helper.make_tensor_value_info('W1', TensorProto.FLOAT, [1]),\n",
    "        helper.make_tensor_value_info('B1', TensorProto.FLOAT, [1]),\n",
    "        helper.make_tensor_value_info('W2', TensorProto.FLOAT, [1]),\n",
    "        helper.make_tensor_value_info('B2', TensorProto.FLOAT, [1]),\n",
    "    ],\n",
    "    [\n",
    "        helper.make_tensor_value_info('Y', TensorProto.FLOAT, [1]),\n",
    "    ]\n",
    ")\n",
    "\n",
    "# output = ThisSpecificgraph([input, w1, b1, w2, b2])\n",
    "node_proto = helper.make_node(\n",
    "    \"graph\",\n",
    "    [\"Input\", \"W1\", \"B1\", \"W2\", \"B2\"],\n",
    "    [\"Output\"],\n",
    "    graph=[graph_proto],\n",
    ")\n",
    "\n",
    "print(\"\\nNodeProto that contains a graph:\\n\")\n",
    "print(node_proto)"
   ]
  },
  {
   "cell_type": "code",
   "execution_count": null,
   "metadata": {},
   "outputs": [],
   "source": []
  },
  {
   "cell_type": "code",
   "execution_count": null,
   "metadata": {},
   "outputs": [],
   "source": []
  }
 ],
 "metadata": {
  "kernelspec": {
   "display_name": "Python 3.9.11 64-bit",
   "language": "python",
   "name": "python3"
  },
  "language_info": {
   "codemirror_mode": {
    "name": "ipython",
    "version": 3
   },
   "file_extension": ".py",
   "mimetype": "text/x-python",
   "name": "python",
   "nbconvert_exporter": "python",
   "pygments_lexer": "ipython3",
   "version": "3.9.11"
  },
  "vscode": {
   "interpreter": {
    "hash": "f9fa6017a53cd3e89c2ae5d3938d7461048c25b2aa8e520267fca421440325a1"
   }
  }
 },
 "nbformat": 4,
 "nbformat_minor": 1
}
